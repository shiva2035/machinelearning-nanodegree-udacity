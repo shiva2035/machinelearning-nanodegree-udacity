{
 "cells": [
  {
   "cell_type": "markdown",
   "metadata": {},
   "source": [
    "**OPINION SPAM DETECTION**"
   ]
  },
  {
   "cell_type": "code",
   "execution_count": 1,
   "metadata": {},
   "outputs": [
    {
     "name": "stderr",
     "output_type": "stream",
     "text": [
      "/Users/shivakumark/anaconda2/lib/python2.7/site-packages/sklearn/cross_validation.py:41: DeprecationWarning: This module was deprecated in version 0.18 in favor of the model_selection module into which all the refactored classes and functions are moved. Also note that the interface of the new CV iterators are different from that of this module. This module will be removed in 0.20.\n",
      "  \"This module will be removed in 0.20.\", DeprecationWarning)\n",
      "/Users/shivakumark/anaconda2/lib/python2.7/site-packages/sklearn/grid_search.py:42: DeprecationWarning: This module was deprecated in version 0.18 in favor of the model_selection module into which all the refactored classes and functions are moved. This module will be removed in 0.20.\n",
      "  DeprecationWarning)\n"
     ]
    }
   ],
   "source": [
    "import pandas as pd\n",
    "import os\n",
    "from nltk.corpus import stopwords\n",
    "from nltk.tokenize import word_tokenize\n",
    "from nltk.stem.wordnet import WordNetLemmatizer\n",
    "from nltk import pos_tag\n",
    "from gensim import matutils,corpora, models\n",
    "import matplotlib.pyplot as plt\n",
    "from sklearn.model_selection import train_test_split\n",
    "from sklearn.grid_search import GridSearchCV\n",
    "from sklearn.ensemble import RandomForestClassifier\n",
    "from sklearn.svm import SVC\n",
    "import warnings\n"
   ]
  },
  {
   "cell_type": "code",
   "execution_count": 2,
   "metadata": {
    "collapsed": true
   },
   "outputs": [],
   "source": [
    "\"\"\"\n",
    "#Use these comments if you're using unix based machine for moving all files in \n",
    "cd negative_polarity\n",
    "find . -type f -print0 | xargs -0 -I file mv file .\n",
    "rm -rf truthful_from_Web \n",
    "rm -rf deceptive_from_MTurk\n",
    "\n",
    "cd positive_polarity\n",
    "find . -type f -print0 | xargs -0 -I file mv file .\n",
    "rm -rf deceptive_from_MTurk\n",
    "rm -rf truthful_from_TripAdvisor \"\"\"\n",
    "\n",
    "# names of all files in the negative_polarity dir into a list\n",
    "negative_review_list = os.listdir(\"op_spam_v1.4/negative_polarity\")\n",
    "# names of all files in the positive_polarity dir into a list\n",
    "positive_review_list = os.listdir(\"op_spam_v1.4/positive_polarity\")"
   ]
  },
  {
   "cell_type": "markdown",
   "metadata": {},
   "source": [
    "**Data Preprocessig**"
   ]
  },
  {
   "cell_type": "code",
   "execution_count": 3,
   "metadata": {
    "collapsed": true
   },
   "outputs": [],
   "source": [
    "def pre_processor(list_of_files,root_folder,polarity_str):\n",
    "    target_class = []\n",
    "    actual_class = []\n",
    "    reviews = []\n",
    "\n",
    "    for file_tmp in list_of_files:\n",
    "        target_class.append(polarity_str)\n",
    "        review_str = str(open(root_folder + '/' + file_tmp).read())\n",
    "        reviews.append(review_str)\n",
    "        actual_class.append(str(file_tmp.split('_')[0]))\n",
    "    data = pd.DataFrame({'target_class':target_class,'actual_class':actual_class, 'review':reviews})\n",
    "    return data"
   ]
  },
  {
   "cell_type": "code",
   "execution_count": 4,
   "metadata": {
    "collapsed": true,
    "scrolled": true
   },
   "outputs": [],
   "source": [
    "negative_data = pre_processor(negative_review_list,'op_spam_v1.4/negative_polarity','negative')\n",
    "positive_data = pre_processor(positive_review_list,'op_spam_v1.4/positive_polarity','positive')"
   ]
  },
  {
   "cell_type": "code",
   "execution_count": 5,
   "metadata": {},
   "outputs": [
    {
     "data": {
      "text/html": [
       "<div>\n",
       "<style>\n",
       "    .dataframe thead tr:only-child th {\n",
       "        text-align: right;\n",
       "    }\n",
       "\n",
       "    .dataframe thead th {\n",
       "        text-align: left;\n",
       "    }\n",
       "\n",
       "    .dataframe tbody tr th {\n",
       "        vertical-align: top;\n",
       "    }\n",
       "</style>\n",
       "<table border=\"1\" class=\"dataframe\">\n",
       "  <thead>\n",
       "    <tr style=\"text-align: right;\">\n",
       "      <th></th>\n",
       "      <th>actual_class</th>\n",
       "      <th>review</th>\n",
       "      <th>target_class</th>\n",
       "    </tr>\n",
       "  </thead>\n",
       "  <tbody>\n",
       "    <tr>\n",
       "      <th>0</th>\n",
       "      <td>d</td>\n",
       "      <td>Affinia Chicago is one of the worst hotels I h...</td>\n",
       "      <td>negative</td>\n",
       "    </tr>\n",
       "    <tr>\n",
       "      <th>1</th>\n",
       "      <td>d</td>\n",
       "      <td>I recently stayed at the Affina Chicago hotel ...</td>\n",
       "      <td>negative</td>\n",
       "    </tr>\n",
       "    <tr>\n",
       "      <th>2</th>\n",
       "      <td>d</td>\n",
       "      <td>I stayed at the Affina Chicago for my annivers...</td>\n",
       "      <td>negative</td>\n",
       "    </tr>\n",
       "    <tr>\n",
       "      <th>3</th>\n",
       "      <td>d</td>\n",
       "      <td>If you are looking for a high end hotel on the...</td>\n",
       "      <td>negative</td>\n",
       "    </tr>\n",
       "    <tr>\n",
       "      <th>4</th>\n",
       "      <td>d</td>\n",
       "      <td>I just returned from a long weekend in Chicago...</td>\n",
       "      <td>negative</td>\n",
       "    </tr>\n",
       "  </tbody>\n",
       "</table>\n",
       "</div>"
      ],
      "text/plain": [
       "  actual_class                                             review target_class\n",
       "0            d  Affinia Chicago is one of the worst hotels I h...     negative\n",
       "1            d  I recently stayed at the Affina Chicago hotel ...     negative\n",
       "2            d  I stayed at the Affina Chicago for my annivers...     negative\n",
       "3            d  If you are looking for a high end hotel on the...     negative\n",
       "4            d  I just returned from a long weekend in Chicago...     negative"
      ]
     },
     "execution_count": 5,
     "metadata": {},
     "output_type": "execute_result"
    }
   ],
   "source": [
    "negative_data.head()"
   ]
  },
  {
   "cell_type": "code",
   "execution_count": 6,
   "metadata": {},
   "outputs": [
    {
     "data": {
      "text/html": [
       "<div>\n",
       "<style>\n",
       "    .dataframe thead tr:only-child th {\n",
       "        text-align: right;\n",
       "    }\n",
       "\n",
       "    .dataframe thead th {\n",
       "        text-align: left;\n",
       "    }\n",
       "\n",
       "    .dataframe tbody tr th {\n",
       "        vertical-align: top;\n",
       "    }\n",
       "</style>\n",
       "<table border=\"1\" class=\"dataframe\">\n",
       "  <thead>\n",
       "    <tr style=\"text-align: right;\">\n",
       "      <th></th>\n",
       "      <th>actual_class</th>\n",
       "      <th>review</th>\n",
       "      <th>target_class</th>\n",
       "    </tr>\n",
       "  </thead>\n",
       "  <tbody>\n",
       "    <tr>\n",
       "      <th>0</th>\n",
       "      <td>d</td>\n",
       "      <td>After recent week stay at the Affinia Hotels, ...</td>\n",
       "      <td>positive</td>\n",
       "    </tr>\n",
       "    <tr>\n",
       "      <th>1</th>\n",
       "      <td>d</td>\n",
       "      <td>Although much too overpriced in my opinion, th...</td>\n",
       "      <td>positive</td>\n",
       "    </tr>\n",
       "    <tr>\n",
       "      <th>2</th>\n",
       "      <td>d</td>\n",
       "      <td>The Affinia hotel in Chicago was superb. the r...</td>\n",
       "      <td>positive</td>\n",
       "    </tr>\n",
       "    <tr>\n",
       "      <th>3</th>\n",
       "      <td>d</td>\n",
       "      <td>THIS HOTEL IS FANTASTIC. I stayed there on my ...</td>\n",
       "      <td>positive</td>\n",
       "    </tr>\n",
       "    <tr>\n",
       "      <th>4</th>\n",
       "      <td>d</td>\n",
       "      <td>The Affinia Chicago is a wonderful place to st...</td>\n",
       "      <td>positive</td>\n",
       "    </tr>\n",
       "  </tbody>\n",
       "</table>\n",
       "</div>"
      ],
      "text/plain": [
       "  actual_class                                             review target_class\n",
       "0            d  After recent week stay at the Affinia Hotels, ...     positive\n",
       "1            d  Although much too overpriced in my opinion, th...     positive\n",
       "2            d  The Affinia hotel in Chicago was superb. the r...     positive\n",
       "3            d  THIS HOTEL IS FANTASTIC. I stayed there on my ...     positive\n",
       "4            d  The Affinia Chicago is a wonderful place to st...     positive"
      ]
     },
     "execution_count": 6,
     "metadata": {},
     "output_type": "execute_result"
    }
   ],
   "source": [
    "positive_data.head()"
   ]
  },
  {
   "cell_type": "code",
   "execution_count": 7,
   "metadata": {
    "collapsed": true
   },
   "outputs": [],
   "source": [
    "target = []\n",
    "for i in negative_data.index:\n",
    "    if ((negative_data['target_class'][i] == 'negative') & (negative_data['actual_class'][i] == 't')):\n",
    "        target.append(3)\n",
    "    elif ((negative_data['target_class'][i] == 'negative') & (negative_data['actual_class'][i] == 'd')):\n",
    "        target.append(4)\n",
    "    else:\n",
    "        print('Error!')\n",
    "negative_data['target'] = target"
   ]
  },
  {
   "cell_type": "code",
   "execution_count": 8,
   "metadata": {
    "collapsed": true
   },
   "outputs": [],
   "source": [
    "target = []\n",
    "for i in positive_data.index:\n",
    "    if ((positive_data['target_class'][i] == 'positive') & (positive_data['actual_class'][i] == 't')):\n",
    "        target.append(2)\n",
    "    elif ((positive_data['target_class'][i] == 'positive') & (positive_data['actual_class'][i] == 'd')):\n",
    "        target.append(1)\n",
    "    else:\n",
    "        print('Error!')\n",
    "positive_data['target'] = target"
   ]
  },
  {
   "cell_type": "code",
   "execution_count": 9,
   "metadata": {
    "collapsed": true
   },
   "outputs": [],
   "source": [
    "data = positive_data.merge(negative_data,how='outer')"
   ]
  },
  {
   "cell_type": "code",
   "execution_count": 10,
   "metadata": {},
   "outputs": [
    {
     "data": {
      "image/png": "[encoded data removed]",
      "text/plain": [
       "<matplotlib.figure.Figure at 0x1a1c2485d0>"
      ]
     },
     "metadata": {},
     "output_type": "display_data"
    }
   ],
   "source": [
    "data = data[['review','target']]\n",
    "data.head()\n",
    "data.hist()\n",
    "plt.show()"
   ]
  },
  {
   "cell_type": "code",
   "execution_count": 11,
   "metadata": {
    "scrolled": true
   },
   "outputs": [
    {
     "data": {
      "text/plain": [
       "4    400\n",
       "3    400\n",
       "2    400\n",
       "1    400\n",
       "Name: target, dtype: int64"
      ]
     },
     "execution_count": 11,
     "metadata": {},
     "output_type": "execute_result"
    }
   ],
   "source": [
    "data.target.value_counts()"
   ]
  },
  {
   "cell_type": "code",
   "execution_count": 12,
   "metadata": {
    "collapsed": true
   },
   "outputs": [],
   "source": [
    "def tokenizer(dataframe):\n",
    "    tokenized_review = []\n",
    "    lemmatizer = WordNetLemmatizer()\n",
    "    for index, datapoint in dataframe.iterrows():\n",
    "        tokenized_words = word_tokenize(datapoint[\"review\"].lower(),language='english')\n",
    "        pos_tagged_word = pos_tag(tokenized_words)\n",
    "        tokenize_words = [\"_\".join([lemmatizer.lemmatize(i[0]),i[1]]) for i in pos_tagged_word if (i[0] not in stopwords.words(\"english\") and len(i[0]) > 2)]\n",
    "        tokenized_review.append(tokenize_words)\n",
    "    dataframe[\"tokenized_review\"] = tokenized_review\n",
    "    return dataframe\n",
    "\n",
    "data = tokenizer(data)"
   ]
  },
  {
   "cell_type": "code",
   "execution_count": 14,
   "metadata": {},
   "outputs": [
    {
     "data": {
      "text/html": [
       "<div>\n",
       "<style>\n",
       "    .dataframe thead tr:only-child th {\n",
       "        text-align: right;\n",
       "    }\n",
       "\n",
       "    .dataframe thead th {\n",
       "        text-align: left;\n",
       "    }\n",
       "\n",
       "    .dataframe tbody tr th {\n",
       "        vertical-align: top;\n",
       "    }\n",
       "</style>\n",
       "<table border=\"1\" class=\"dataframe\">\n",
       "  <thead>\n",
       "    <tr style=\"text-align: right;\">\n",
       "      <th></th>\n",
       "      <th>review</th>\n",
       "      <th>target</th>\n",
       "      <th>tokenized_review</th>\n",
       "    </tr>\n",
       "  </thead>\n",
       "  <tbody>\n",
       "    <tr>\n",
       "      <th>0</th>\n",
       "      <td>After recent week stay at the Affinia Hotels, ...</td>\n",
       "      <td>1</td>\n",
       "      <td>[recent_JJ, week_NN, stay_NN, affinia_NN, hote...</td>\n",
       "    </tr>\n",
       "    <tr>\n",
       "      <th>1</th>\n",
       "      <td>Although much too overpriced in my opinion, th...</td>\n",
       "      <td>1</td>\n",
       "      <td>[although_IN, much_RB, overpriced_VBN, opinion...</td>\n",
       "    </tr>\n",
       "    <tr>\n",
       "      <th>2</th>\n",
       "      <td>The Affinia hotel in Chicago was superb. the r...</td>\n",
       "      <td>1</td>\n",
       "      <td>[affinia_JJ, hotel_NN, chicago_NN, superb_NN, ...</td>\n",
       "    </tr>\n",
       "    <tr>\n",
       "      <th>3</th>\n",
       "      <td>THIS HOTEL IS FANTASTIC. I stayed there on my ...</td>\n",
       "      <td>1</td>\n",
       "      <td>[hotel_NN, fantastic_JJ, stayed_VBD, way_NN, c...</td>\n",
       "    </tr>\n",
       "    <tr>\n",
       "      <th>4</th>\n",
       "      <td>The Affinia Chicago is a wonderful place to st...</td>\n",
       "      <td>1</td>\n",
       "      <td>[affinia_NN, chicago_NN, wonderful_JJ, place_N...</td>\n",
       "    </tr>\n",
       "  </tbody>\n",
       "</table>\n",
       "</div>"
      ],
      "text/plain": [
       "                                              review  target  \\\n",
       "0  After recent week stay at the Affinia Hotels, ...       1   \n",
       "1  Although much too overpriced in my opinion, th...       1   \n",
       "2  The Affinia hotel in Chicago was superb. the r...       1   \n",
       "3  THIS HOTEL IS FANTASTIC. I stayed there on my ...       1   \n",
       "4  The Affinia Chicago is a wonderful place to st...       1   \n",
       "\n",
       "                                    tokenized_review  \n",
       "0  [recent_JJ, week_NN, stay_NN, affinia_NN, hote...  \n",
       "1  [although_IN, much_RB, overpriced_VBN, opinion...  \n",
       "2  [affinia_JJ, hotel_NN, chicago_NN, superb_NN, ...  \n",
       "3  [hotel_NN, fantastic_JJ, stayed_VBD, way_NN, c...  \n",
       "4  [affinia_NN, chicago_NN, wonderful_JJ, place_N...  "
      ]
     },
     "execution_count": 14,
     "metadata": {},
     "output_type": "execute_result"
    }
   ],
   "source": [
    "data.head()"
   ]
  },
  {
   "cell_type": "code",
   "execution_count": 15,
   "metadata": {},
   "outputs": [
    {
     "name": "stdout",
     "output_type": "stream",
     "text": [
      "(1600, 5911)\n"
     ]
    }
   ],
   "source": [
    "from gensim import matutils,corpora, models\n",
    "\n",
    "def vectorize_reviews(dataframe):\n",
    "    dict = corpora.Dictionary(dataframe[\"tokenized_review\"])\n",
    "    dict.filter_extremes(no_below=2, no_above=0.8)\n",
    "    dict.compactify()\n",
    "    corpus = [dict.doc2bow(text) for text in dataframe[\"tokenized_review\"]]\n",
    "    corpus = matutils.corpus2csc(corpus, num_terms=len(dict.token2id))\n",
    "    corpus = corpus.transpose()\n",
    "    return dict, corpus\n",
    "\n",
    "dictionary,corpus = vectorize_reviews(data)\n",
    "print corpus.shape"
   ]
  },
  {
   "cell_type": "markdown",
   "metadata": {},
   "source": [
    "**Data Splitting**"
   ]
  },
  {
   "cell_type": "code",
   "execution_count": 16,
   "metadata": {
    "collapsed": true
   },
   "outputs": [],
   "source": [
    "X_train, X_test, y_train, y_test = train_test_split(corpus, data[\"target\"], test_size=0.25)"
   ]
  },
  {
   "cell_type": "markdown",
   "metadata": {},
   "source": [
    "**RandomForestClassifier:**"
   ]
  },
  {
   "cell_type": "code",
   "execution_count": 17,
   "metadata": {
    "collapsed": true
   },
   "outputs": [],
   "source": [
    "def random_forest_classifier_trainer(X,y):\n",
    "    n_estimators = [100]\n",
    "    min_samples_split = [2]\n",
    "    min_samples_leaf = [1]\n",
    "    parameters = {'n_estimators': n_estimators, 'min_samples_leaf': min_samples_leaf,\n",
    "                  'min_samples_split': min_samples_split}\n",
    "    classifier = GridSearchCV(RandomForestClassifier(verbose=1,n_jobs=-1), cv=4, param_grid=parameters)\n",
    "    classifier.fit(X, y)\n",
    "    return classifier"
   ]
  },
  {
   "cell_type": "code",
   "execution_count": 18,
   "metadata": {},
   "outputs": [
    {
     "name": "stderr",
     "output_type": "stream",
     "text": [
      "[Parallel(n_jobs=-1)]: Done  42 tasks      | elapsed:    0.1s\n",
      "[Parallel(n_jobs=-1)]: Done 100 out of 100 | elapsed:    0.3s finished\n",
      "[Parallel(n_jobs=4)]: Done  42 tasks      | elapsed:    0.0s\n",
      "[Parallel(n_jobs=4)]: Done 100 out of 100 | elapsed:    0.1s finished\n",
      "[Parallel(n_jobs=-1)]: Done  42 tasks      | elapsed:    0.1s\n",
      "[Parallel(n_jobs=-1)]: Done 100 out of 100 | elapsed:    0.3s finished\n",
      "[Parallel(n_jobs=4)]: Done  42 tasks      | elapsed:    0.0s\n",
      "[Parallel(n_jobs=4)]: Done 100 out of 100 | elapsed:    0.1s finished\n",
      "[Parallel(n_jobs=-1)]: Done  42 tasks      | elapsed:    0.1s\n",
      "[Parallel(n_jobs=-1)]: Done 100 out of 100 | elapsed:    0.3s finished\n",
      "[Parallel(n_jobs=4)]: Done  42 tasks      | elapsed:    0.0s\n",
      "[Parallel(n_jobs=4)]: Done 100 out of 100 | elapsed:    0.1s finished\n",
      "[Parallel(n_jobs=-1)]: Done  42 tasks      | elapsed:    0.1s\n",
      "[Parallel(n_jobs=-1)]: Done 100 out of 100 | elapsed:    0.3s finished\n",
      "[Parallel(n_jobs=4)]: Done  42 tasks      | elapsed:    0.0s\n",
      "[Parallel(n_jobs=4)]: Done 100 out of 100 | elapsed:    0.0s finished\n",
      "[Parallel(n_jobs=-1)]: Done  42 tasks      | elapsed:    0.2s\n",
      "[Parallel(n_jobs=-1)]: Done 100 out of 100 | elapsed:    0.4s finished\n"
     ]
    }
   ],
   "source": [
    "trained_rf_classfier = random_forest_classifier_trainer(X_train,y_train)"
   ]
  },
  {
   "cell_type": "code",
   "execution_count": 21,
   "metadata": {
    "scrolled": true
   },
   "outputs": [
    {
     "name": "stdout",
     "output_type": "stream",
     "text": [
      "Accuracy of RandomForestClassifier with GridSearchCV on training data is :0.6925\n"
     ]
    }
   ],
   "source": [
    "print (\"Accuracy of RandomForestClassifier with GridSearchCV on training data is :{}\".format(trained_rf_classfier.best_score_))"
   ]
  },
  {
   "cell_type": "code",
   "execution_count": 23,
   "metadata": {},
   "outputs": [
    {
     "name": "stdout",
     "output_type": "stream",
     "text": [
      "Accuracy of RandomForestClassifier with GridSearchCV on test data is : 0.69\n"
     ]
    },
    {
     "name": "stderr",
     "output_type": "stream",
     "text": [
      "[Parallel(n_jobs=4)]: Done  42 tasks      | elapsed:    0.0s\n",
      "[Parallel(n_jobs=4)]: Done 100 out of 100 | elapsed:    0.1s finished\n"
     ]
    }
   ],
   "source": [
    "print(\"Accuracy of RandomForestClassifier with GridSearchCV on test data is : {}\".format(trained_rf_classfier.score(X_test,y_test)))"
   ]
  },
  {
   "cell_type": "markdown",
   "metadata": {},
   "source": [
    "**SVM Classifier:**"
   ]
  },
  {
   "cell_type": "code",
   "execution_count": 24,
   "metadata": {
    "collapsed": true
   },
   "outputs": [],
   "source": [
    "def svm_classifier_trainer(X,y):\n",
    "    parameters = {'C': [10,15,20,25],'random_state':[2016]}\n",
    "    svc_classifier = GridSearchCV(SVC(kernel = 'rbf'), cv=4, param_grid=parameters)\n",
    "    svc_classifier.fit(X, y)\n",
    "    return svc_classifier"
   ]
  },
  {
   "cell_type": "code",
   "execution_count": 25,
   "metadata": {
    "collapsed": true
   },
   "outputs": [],
   "source": [
    "svc_classifier = svm_classifier_trainer(X_train,y_train)"
   ]
  },
  {
   "cell_type": "code",
   "execution_count": 28,
   "metadata": {},
   "outputs": [
    {
     "name": "stdout",
     "output_type": "stream",
     "text": [
      "Accuracy of SVM on Training sets :0.745\n"
     ]
    }
   ],
   "source": [
    "print(\"Accuracy of SVM on Training sets :{}\".format(svc_classifier.best_score_))"
   ]
  },
  {
   "cell_type": "code",
   "execution_count": 30,
   "metadata": {},
   "outputs": [
    {
     "name": "stdout",
     "output_type": "stream",
     "text": [
      "Accuracy of SVM on test sets is : 0.7625\n"
     ]
    }
   ],
   "source": [
    "print(\"Accuracy of SVM on test sets is : {}\".format(svc_classifier.score(X_test,y_test)))"
   ]
  },
  {
   "cell_type": "markdown",
   "metadata": {
    "collapsed": true
   },
   "source": [
    "**Naive Bayes Classifier:**"
   ]
  },
  {
   "cell_type": "code",
   "execution_count": 31,
   "metadata": {
    "collapsed": true
   },
   "outputs": [],
   "source": [
    "from sklearn.naive_bayes import MultinomialNB\n",
    "def naive_bayes_trainer(X,y):\n",
    "    naive_bayes_classifier = MultinomialNB()\n",
    "    naive_bayes_classifier.fit(X, y)\n",
    "    return naive_bayes_classifier"
   ]
  },
  {
   "cell_type": "code",
   "execution_count": 32,
   "metadata": {
    "scrolled": true
   },
   "outputs": [
    {
     "name": "stdout",
     "output_type": "stream",
     "text": [
      "0.973333333333\n"
     ]
    }
   ],
   "source": [
    "naive_bayes_classifier = naive_bayes_trainer(X_train, y_train)\n",
    "print naive_bayes_classifier.score(X_train, y_train)"
   ]
  },
  {
   "cell_type": "code",
   "execution_count": 34,
   "metadata": {},
   "outputs": [
    {
     "name": "stdout",
     "output_type": "stream",
     "text": [
      "('Accuracy score: ', '0.825')\n"
     ]
    }
   ],
   "source": [
    "from sklearn.metrics import accuracy_score\n",
    "predictions = naive_bayes_classifier.predict(X_test)\n",
    "print('Accuracy score: ', format(accuracy_score(y_test, predictions)))"
   ]
  },
  {
   "cell_type": "code",
   "execution_count": null,
   "metadata": {
    "collapsed": true
   },
   "outputs": [],
   "source": []
  }
 ],
 "metadata": {
  "kernelspec": {
   "display_name": "Python 2",
   "language": "python",
   "name": "python2"
  },
  "language_info": {
   "codemirror_mode": {
    "name": "ipython",
    "version": 2
   },
   "file_extension": ".py",
   "mimetype": "text/x-python",
   "name": "python",
   "nbconvert_exporter": "python",
   "pygments_lexer": "ipython2",
   "version": "2.7.13"
  }
 },
 "nbformat": 4,
 "nbformat_minor": 2
}
